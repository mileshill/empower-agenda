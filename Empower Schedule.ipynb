{
 "cells": [
  {
   "cell_type": "markdown",
   "id": "1041ba59",
   "metadata": {},
   "source": [
    "# Scraping the Empower Agenda"
   ]
  },
  {
   "cell_type": "markdown",
   "id": "04d7907d",
   "metadata": {},
   "source": [
    "![](https://media-exp1.licdn.com/dms/image/C561BAQGjVV5Nd2FfrQ/company-background_10000/0/1644015618982?e=1648008000&v=beta&t=jeylykbf83NNnYQaF8lxP7YoEmsgXSUDlcgjHvaWr-k)"
   ]
  },
  {
   "cell_type": "markdown",
   "id": "afbbb23c",
   "metadata": {},
   "source": [
    "Empower and other awesome events hosted by [Digital Wildcatters](https://digitalwildcatters.com/). Make sure you check them out. This is their sick banner."
   ]
  },
  {
   "cell_type": "markdown",
   "id": "336892a3",
   "metadata": {},
   "source": [
    "# Scraping the Agenda"
   ]
  },
  {
   "cell_type": "markdown",
   "id": "9e5b268d",
   "metadata": {},
   "source": [
    "Conferences are awsome, but agendas never are. Multiple speaking locations, continuous speakers, and networking inbetween. I had a simple goal. Hack a script together to download the agenda into a CSV so I can upload the events to a Google Calendar.\n"
   ]
  },
  {
   "cell_type": "markdown",
   "id": "cc9753a9",
   "metadata": {},
   "source": [
    "The Agenda is laid out perfectly for a little `Beautiful Soup` action. Fish out the title and dangling `<p></p>` tags and bingo bango, you've got an event."
   ]
  },
  {
   "cell_type": "markdown",
   "id": "d8ab36b1",
   "metadata": {},
   "source": [
    "![](screen_shot.ping)"
   ]
  },
  {
   "cell_type": "markdown",
   "id": "8161903c",
   "metadata": {},
   "source": [
    "***Plan of action***\n",
    "1. Download the page\n",
    "2. Parse with bs4\n",
    "3. Extract the events with class tags\n",
    "4. For each event:\n",
    "\n",
    "    a. Get the title\n",
    "    b. For each `<p>` tag:\n",
    "        get relevant data from tag\n",
    "\n",
    "5. Manipulate event dicts into GCalendar format\n",
    "6. DataFrame to CSV"
   ]
  },
  {
   "cell_type": "markdown",
   "id": "ff4f6dd7",
   "metadata": {},
   "source": [
    "---"
   ]
  },
  {
   "cell_type": "markdown",
   "id": "52c1d4d0",
   "metadata": {},
   "source": [
    "# Imports"
   ]
  },
  {
   "cell_type": "code",
   "execution_count": 46,
   "id": "a2f5d250",
   "metadata": {},
   "outputs": [],
   "source": [
    "import datetime\n",
    "import requests\n",
    "import re\n",
    "from bs4 import BeautifulSoup\n",
    "import pandas as pd\n",
    "import pytz\n",
    "import os.path"
   ]
  },
  {
   "cell_type": "markdown",
   "id": "d684ac7d",
   "metadata": {},
   "source": [
    "## Top level items"
   ]
  },
  {
   "cell_type": "code",
   "execution_count": 6,
   "id": "10988b8f",
   "metadata": {},
   "outputs": [],
   "source": [
    "def get_item_title(item):\n",
    "    \"\"\"Grab title class\"\"\"\n",
    "    return item.find(\"a\", {\"class\": \"elementor-toggle-title\"}).text\n",
    "\n",
    "def get_item_subitems(item):\n",
    "    \"\"\"Grab all talk details\"\"\"\n",
    "    return [x.text for x in item.find_all(\"p\")]"
   ]
  },
  {
   "cell_type": "markdown",
   "id": "6bb429e4",
   "metadata": {},
   "source": [
    "## Nested items"
   ]
  },
  {
   "cell_type": "code",
   "execution_count": 52,
   "id": "8814a9fc",
   "metadata": {},
   "outputs": [],
   "source": [
    "def process_item_time(items, day):\n",
    "    \"\"\"Overkill time extraction\"\"\"\n",
    "    # Careful! Possible StopIteration\n",
    "    time = filter(lambda x: \"Time:\" in x, items).__next__()\n",
    "        \n",
    "    # Find the pattern\n",
    "    match = re.search(r'([0-9]{1,2}:[0-9]{2}\\s[AP]M)', time.upper())\n",
    "    if match:\n",
    "        return match[1]\n",
    "    raise ValueError(f\"No time found in: '{time}'\")"
   ]
  },
  {
   "cell_type": "code",
   "execution_count": 53,
   "id": "df769248",
   "metadata": {},
   "outputs": [],
   "source": [
    "def process_item_where(item_text):\n",
    "    \"\"\"Grab the stage or tent\"\"\"\n",
    "    loc = filter(lambda x: \"Where:\" in x, item_text).__next__()\n",
    "    return loc.split(\":\")[-1].strip()"
   ]
  },
  {
   "cell_type": "code",
   "execution_count": 54,
   "id": "5d8f5a12",
   "metadata": {},
   "outputs": [],
   "source": [
    "def process_item_description(item_text):\n",
    "    \"\"\"Grab the description if it exists\"\"\"\n",
    "    # Some don't have. Just return None. No big deal\n",
    "    try:\n",
    "        idx = item_text.index(\"Description:\")\n",
    "    except ValueError as e:\n",
    "        return None\n",
    "    return item_text[idx + 1]"
   ]
  },
  {
   "cell_type": "markdown",
   "id": "5aad2a71",
   "metadata": {},
   "source": [
    "## Combine into super function!"
   ]
  },
  {
   "cell_type": "markdown",
   "id": "080ccb83",
   "metadata": {},
   "source": [
    "![Omni Man](omni-man.png)"
   ]
  },
  {
   "cell_type": "code",
   "execution_count": 61,
   "id": "0f2fd4a4",
   "metadata": {},
   "outputs": [],
   "source": [
    "def extract_data(item):\n",
    "    \"\"\"This is the main processing function\"\"\"\n",
    "    title = get_item_title(item)  # Title\n",
    "\n",
    "    subitems = get_item_subitems(item)  # Talk details\n",
    "    if len(subitems) <= 1:\n",
    "        return None\n",
    "\n",
    "    time = process_item_time(subitems, 30)\n",
    "    where = process_item_where(subitems)\n",
    "    description = process_item_description(subitems)\n",
    "    return {\n",
    "        \"Subject\": title,\n",
    "        \"Start Date\":time,\n",
    "        \"Start Time\":time,\n",
    "        \"Location\": where,\n",
    "        \"Description\": description\n",
    "    }"
   ]
  },
  {
   "cell_type": "markdown",
   "id": "098283fe",
   "metadata": {},
   "source": [
    "# Execute scraping magic"
   ]
  },
  {
   "cell_type": "code",
   "execution_count": 2,
   "id": "59a25784",
   "metadata": {},
   "outputs": [],
   "source": [
    "# Get the content\n",
    "page = \"https://digitalwildcatters.com/empower-energizing-bitcoin/agenda/\"\n",
    "resp = requests.get(page)\n",
    "resp.raise_for_status()\n",
    "\n",
    "# Parse into soup\n",
    "soup = BeautifulSoup(resp.content, \"html.parser\")"
   ]
  },
  {
   "cell_type": "code",
   "execution_count": 3,
   "id": "9eaffeeb",
   "metadata": {},
   "outputs": [],
   "source": [
    "# These are the tasty agenda bits!\n",
    "items = soup.find_all(\"div\", {\"class\": \"elementor-toggle-item\"})"
   ]
  },
  {
   "cell_type": "markdown",
   "id": "692ce1ac",
   "metadata": {},
   "source": [
    "The next cell solves the problem. It's not pretty, but it does not need to be. A one-off parsing script can be ugly if it works and saves time."
   ]
  },
  {
   "cell_type": "code",
   "execution_count": 77,
   "id": "39a99a78",
   "metadata": {},
   "outputs": [],
   "source": [
    "day = 30  # First day of event\n",
    "events = [] \n",
    "for event in filter(lambda x: x is not None, [extract_data(item) for item in items]):\n",
    "    \n",
    "    # First event on Day 2\n",
    "    if event and event[\"Subject\"] and \"The Rise of Renewables\" == event[\"Subject\"]:\n",
    "        day = 31\n",
    "            \n",
    "    # Update dates and times\n",
    "    event[\"Start Date\"] = f\"2022/03/{day}\"\n",
    "    event[\"End Date\"] = event[\"Start Date\"]\n",
    "    event[\"End Time\"] = (datetime.datetime.strptime(event[\"Start Time\"], \"%I:%M %p\") + datetime.timedelta(minutes=20)).strftime(\"%I:%M %p\")\n",
    "    events.append(event)\n"
   ]
  },
  {
   "cell_type": "markdown",
   "id": "1dad33d3",
   "metadata": {},
   "source": [
    "# Bask in glorly"
   ]
  },
  {
   "cell_type": "markdown",
   "id": "e67cf494",
   "metadata": {},
   "source": [
    "Here we go. The rabbit has been extracted from the hat. All the events in a DataFrame ready to be exported to CSV and imported into the Google Calendar."
   ]
  },
  {
   "cell_type": "code",
   "execution_count": 90,
   "id": "832638f7",
   "metadata": {
    "scrolled": true
   },
   "outputs": [
    {
     "data": {
      "text/html": [
       "<div>\n",
       "<style scoped>\n",
       "    .dataframe tbody tr th:only-of-type {\n",
       "        vertical-align: middle;\n",
       "    }\n",
       "\n",
       "    .dataframe tbody tr th {\n",
       "        vertical-align: top;\n",
       "    }\n",
       "\n",
       "    .dataframe thead th {\n",
       "        text-align: right;\n",
       "    }\n",
       "</style>\n",
       "<table border=\"1\" class=\"dataframe\">\n",
       "  <thead>\n",
       "    <tr style=\"text-align: right;\">\n",
       "      <th></th>\n",
       "      <th>Subject</th>\n",
       "      <th>Start Date</th>\n",
       "      <th>Start Time</th>\n",
       "      <th>Location</th>\n",
       "      <th>Description</th>\n",
       "      <th>End Date</th>\n",
       "      <th>End Time</th>\n",
       "    </tr>\n",
       "  </thead>\n",
       "  <tbody>\n",
       "    <tr>\n",
       "      <th>0</th>\n",
       "      <td>Energy 101: Getting Schooled Up On Power Gener...</td>\n",
       "      <td>2022/03/30</td>\n",
       "      <td>9:30 AM</td>\n",
       "      <td>Beatles Stage</td>\n",
       "      <td>This is a crash course on energy as a whole. C...</td>\n",
       "      <td>2022/03/30</td>\n",
       "      <td>09:50 AM</td>\n",
       "    </tr>\n",
       "    <tr>\n",
       "      <th>1</th>\n",
       "      <td>Keynote: Crusoe</td>\n",
       "      <td>2022/03/30</td>\n",
       "      <td>9:45 AM</td>\n",
       "      <td>Big Tent</td>\n",
       "      <td>Keynote by Cully Cavness</td>\n",
       "      <td>2022/03/30</td>\n",
       "      <td>10:05 AM</td>\n",
       "    </tr>\n",
       "    <tr>\n",
       "      <th>2</th>\n",
       "      <td>From Hash to Cash: The Economics of Bitcoin Mi...</td>\n",
       "      <td>2022/03/30</td>\n",
       "      <td>10:15 AM</td>\n",
       "      <td>Beatles Stage</td>\n",
       "      <td>Why should anyone care about bitcoin mining? I...</td>\n",
       "      <td>2022/03/30</td>\n",
       "      <td>10:35 AM</td>\n",
       "    </tr>\n",
       "    <tr>\n",
       "      <th>3</th>\n",
       "      <td>Why Bitcoin Changes What We Know About Energy</td>\n",
       "      <td>2022/03/30</td>\n",
       "      <td>10:30 AM</td>\n",
       "      <td>Big Tent</td>\n",
       "      <td>The energy industry has historically been a pr...</td>\n",
       "      <td>2022/03/30</td>\n",
       "      <td>10:50 AM</td>\n",
       "    </tr>\n",
       "    <tr>\n",
       "      <th>4</th>\n",
       "      <td>Why Texas will be the Bitcoin Mining Capital o...</td>\n",
       "      <td>2022/03/30</td>\n",
       "      <td>11:00 AM</td>\n",
       "      <td>Beatles Stage</td>\n",
       "      <td>Bitcoin experts say Texas is the world’s newes...</td>\n",
       "      <td>2022/03/30</td>\n",
       "      <td>11:20 AM</td>\n",
       "    </tr>\n",
       "  </tbody>\n",
       "</table>\n",
       "</div>"
      ],
      "text/plain": [
       "                                             Subject  Start Date Start Time  \\\n",
       "0  Energy 101: Getting Schooled Up On Power Gener...  2022/03/30    9:30 AM   \n",
       "1                                    Keynote: Crusoe  2022/03/30    9:45 AM   \n",
       "2  From Hash to Cash: The Economics of Bitcoin Mi...  2022/03/30   10:15 AM   \n",
       "3      Why Bitcoin Changes What We Know About Energy  2022/03/30   10:30 AM   \n",
       "4  Why Texas will be the Bitcoin Mining Capital o...  2022/03/30   11:00 AM   \n",
       "\n",
       "        Location                                        Description  \\\n",
       "0  Beatles Stage  This is a crash course on energy as a whole. C...   \n",
       "1       Big Tent                           Keynote by Cully Cavness   \n",
       "2  Beatles Stage  Why should anyone care about bitcoin mining? I...   \n",
       "3       Big Tent  The energy industry has historically been a pr...   \n",
       "4  Beatles Stage  Bitcoin experts say Texas is the world’s newes...   \n",
       "\n",
       "     End Date  End Time  \n",
       "0  2022/03/30  09:50 AM  \n",
       "1  2022/03/30  10:05 AM  \n",
       "2  2022/03/30  10:35 AM  \n",
       "3  2022/03/30  10:50 AM  \n",
       "4  2022/03/30  11:20 AM  "
      ]
     },
     "execution_count": 90,
     "metadata": {},
     "output_type": "execute_result"
    }
   ],
   "source": [
    "df = pd.DataFrame.from_dict(events)\n",
    "df.head()"
   ]
  },
  {
   "cell_type": "markdown",
   "id": "fc31c76b",
   "metadata": {},
   "source": [
    "# CSVs"
   ]
  },
  {
   "cell_type": "code",
   "execution_count": 87,
   "id": "8c371301",
   "metadata": {},
   "outputs": [],
   "source": [
    "tent = df[df[\"Location\"] == \"Big Tent\"]\n",
    "tent.to_csv(\"empower.big_tent.csv\", index=False)"
   ]
  },
  {
   "cell_type": "code",
   "execution_count": null,
   "id": "c98d88f8",
   "metadata": {},
   "outputs": [],
   "source": [
    "beatles = df[df[\"Location\"] == \"Beatles Stage\"]\n",
    "\n",
    "beatles.to_csv(\"empower.beatles_stage.csv\", index=False)"
   ]
  },
  {
   "cell_type": "markdown",
   "id": "44309544",
   "metadata": {},
   "source": [
    "Now, go upload the CSVs to a new Google Calendar."
   ]
  },
  {
   "cell_type": "markdown",
   "id": "d2db662f",
   "metadata": {},
   "source": [
    "# Calendar"
   ]
  },
  {
   "cell_type": "markdown",
   "id": "46e0e9d3",
   "metadata": {},
   "source": [
    "You can access the calendar [HERE](https://calendar.google.com/calendar/u/1?cid=Y19iazM5dms4aDBxNjZuMWs4cDVjODBnNXNna0Bncm91cC5jYWxlbmRhci5nb29nbGUuY29t), until the event is over."
   ]
  },
  {
   "cell_type": "markdown",
   "id": "e030d49d",
   "metadata": {},
   "source": [
    "![](gcalendar.png)"
   ]
  },
  {
   "cell_type": "code",
   "execution_count": null,
   "id": "53c2bd1c",
   "metadata": {},
   "outputs": [],
   "source": []
  }
 ],
 "metadata": {
  "kernelspec": {
   "display_name": "Python 3 (ipykernel)",
   "language": "python",
   "name": "python3"
  },
  "language_info": {
   "codemirror_mode": {
    "name": "ipython",
    "version": 3
   },
   "file_extension": ".py",
   "mimetype": "text/x-python",
   "name": "python",
   "nbconvert_exporter": "python",
   "pygments_lexer": "ipython3",
   "version": "3.9.7"
  }
 },
 "nbformat": 4,
 "nbformat_minor": 5
}
